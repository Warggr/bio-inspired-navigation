{
 "cells": [
  {
   "cell_type": "code",
   "execution_count": 1,
   "id": "a6c709a3-e148-4b33-9781-242c58d0d6c4",
   "metadata": {},
   "outputs": [],
   "source": [
    "import sys, os\n",
    "sys.path.append(os.path.join(os.getcwd(), \"..\"))"
   ]
  },
  {
   "cell_type": "code",
   "execution_count": 2,
   "id": "0e092ec5-a8b6-4ded-9470-f8900f86f239",
   "metadata": {},
   "outputs": [
    {
     "name": "stderr",
     "output_type": "stream",
     "text": [
      "pybullet build time: Apr 30 2024 14:40:07\n",
      "2024-07-05 19:30:52.076528: W tensorflow/compiler/tf2tensorrt/utils/py_utils.cc:38] TF-TRT Warning: Could not find TensorRT\n"
     ]
    },
    {
     "name": "stdout",
     "output_type": "stream",
     "text": [
      "Loaded epoch 25\n"
     ]
    }
   ],
   "source": [
    "from system.controller.reachability_estimator.networks import Model, get_grid_cell\n",
    "from system.controller.reachability_estimator.ReachabilityDataset import SampleConfig\n",
    "from system.controller.reachability_estimator.training.train_multiframe_dst import _load_weights, DATA_STORAGE_FOLDER, Hyperparameters, process_batch\n",
    "\n",
    "config = SampleConfig(\n",
    "    grid_cell_spikings=False,\n",
    "    lidar=False,\n",
    "    images=False,\n",
    "    dist=True,\n",
    ")\n",
    "network_config = {\n",
    "    'image_encoder': 'conv',\n",
    "}\n",
    "dataset_features = []\n",
    "\n",
    "dataset_features = ''.join(f'-{feature}' for feature in dataset_features)\n",
    "suffix = dataset_features + config.suffix()\n",
    "if network_config['image_encoder'] == 'conv':\n",
    "    suffix += '+conv'\n",
    "\n",
    "model_filename = \"reachability_network\"\n",
    "model_dir = DATA_STORAGE_FOLDER\n",
    "\n",
    "model_filename = model_filename + suffix\n",
    "model_file = os.path.join(model_dir, model_filename)\n",
    "\n",
    "nets = Model.create_from_config(\"convolutional\", config, **network_config)\n",
    "epoch = _load_weights(model_file, nets)\n",
    "print(\"Loaded epoch\", epoch)"
   ]
  },
  {
   "cell_type": "code",
   "execution_count": 3,
   "id": "0c4b0ad8-3556-4bbd-b87f-b15543d6c5fa",
   "metadata": {},
   "outputs": [
    {
     "data": {
      "text/plain": [
       "{'angle_regression': AngleRegression(\n",
       "   (fc): Linear(in_features=4, out_features=1, bias=True)\n",
       "   (sigmoid): Sigmoid()\n",
       " ),\n",
       " 'position_regression': PositionRegression(\n",
       "   (fc): Linear(in_features=4, out_features=2, bias=True)\n",
       " ),\n",
       " 'reachability_regression': ReachabilityRegression(\n",
       "   (fc): Linear(in_features=4, out_features=1, bias=True)\n",
       "   (sigmoid): Sigmoid()\n",
       " ),\n",
       " 'fully_connected': FCLayers(\n",
       "   (fc): Sequential(\n",
       "     (0): Linear(in_features=3, out_features=256, bias=True)\n",
       "     (1): ReLU()\n",
       "     (2): Linear(in_features=256, out_features=256, bias=True)\n",
       "     (3): ReLU()\n",
       "     (4): Linear(in_features=256, out_features=4, bias=True)\n",
       "   )\n",
       " )}"
      ]
     },
     "execution_count": 3,
     "metadata": {},
     "output_type": "execute_result"
    }
   ],
   "source": [
    "nets.nets"
   ]
  },
  {
   "cell_type": "code",
   "execution_count": 4,
   "id": "e62b5af3-bc7a-4a2d-91e7-1c36715f89d9",
   "metadata": {},
   "outputs": [
    {
     "name": "stdout",
     "output_type": "stream",
     "text": [
      "fc[0] = Linear(weights<torch.Size([256, 3])>, bias<torch.Size([256])>)\n",
      "fc[2] = Linear(weights<torch.Size([256, 256])>, bias<torch.Size([256])>)\n",
      "fc[4] = Linear(weights<torch.Size([4, 256])>, bias<torch.Size([4])>)\n"
     ]
    }
   ],
   "source": [
    "import torch\n",
    "import torch.nn as nn\n",
    "fc = nets.nets['fully_connected'].fc\n",
    "for i, layer in enumerate(fc):\n",
    "    if type(layer) == nn.Linear:\n",
    "        print(f\"fc[{i}] = Linear(weights<{fc[i].weight.shape}>, bias<{fc[i].bias.shape}>)\")\n",
    "        fc[i].weight.data.fill_(0.0)\n",
    "        fc[i].bias.data.fill_(0.0)"
   ]
  },
  {
   "cell_type": "code",
   "execution_count": 5,
   "id": "67291a2c-9f01-4879-82f9-ffc0508ccd86",
   "metadata": {},
   "outputs": [],
   "source": [
    "from system.controller.reachability_estimator.ReachabilityDataset import ReachabilityDataset\n",
    "from system.controller.reachability_estimator.types import img_reshape, Sample"
   ]
  },
  {
   "cell_type": "code",
   "execution_count": 6,
   "id": "9a81fc92-2a49-4e32-b235-cd10f538688d",
   "metadata": {},
   "outputs": [
    {
     "data": {
      "text/plain": [
       "([tensor(nan),\n",
       "  tensor(nan),\n",
       "  tensor([0., 0., 0.]),\n",
       "  tensor(nan),\n",
       "  tensor(nan),\n",
       "  tensor(nan),\n",
       "  tensor(nan)],\n",
       " (tensor(0.), tensor([0., 0.]), tensor(0.)))"
      ]
     },
     "execution_count": 6,
     "metadata": {},
     "output_type": "execute_result"
    }
   ],
   "source": [
    "dataset = ReachabilityDataset(\"dataset.hd5\", sample_config=config)\n",
    "next(iter(dataset))"
   ]
  },
  {
   "cell_type": "code",
   "execution_count": 7,
   "id": "f779d154-e122-4697-b4a4-52767da7a7fa",
   "metadata": {},
   "outputs": [
    {
     "name": "stderr",
     "output_type": "stream",
     "text": [
      "100%|████████████████████████████████████████████████████████████████████████████████████████████████████████████████████████████████████████████████████████████████████████████████████| 14000/14000 [00:33<00:00, 417.76it/s]\n"
     ]
    }
   ],
   "source": [
    "import numpy as np\n",
    "from tqdm import tqdm\n",
    "\n",
    "distances = []\n",
    "labels = []\n",
    "\n",
    "# TODO Pierre: could be made more efficient with batching\n",
    "for sample, ground_truth in tqdm(dataset):\n",
    "    distance = np.linalg.norm(sample[2][0:2])\n",
    "    reachable = ground_truth[0]\n",
    "    distances.append(distance)\n",
    "    labels.append(reachable)"
   ]
  },
  {
   "cell_type": "code",
   "execution_count": 8,
   "id": "c322f884-252f-4b9d-85d0-bfa44d1c68c7",
   "metadata": {},
   "outputs": [
    {
     "data": {
      "text/plain": [
       "<matplotlib.collections.PathCollection at 0x7febc80ece30>"
      ]
     },
     "execution_count": 8,
     "metadata": {},
     "output_type": "execute_result"
    },
    {
     "data": {
      "image/png": "[encoded data removed]",
      "text/plain": [
       "<Figure size 640x480 with 1 Axes>"
      ]
     },
     "metadata": {},
     "output_type": "display_data"
    }
   ],
   "source": [
    "import matplotlib.pyplot as plt\n",
    "plt.scatter(distances, labels, marker='x')"
   ]
  },
  {
   "cell_type": "code",
   "execution_count": 9,
   "id": "6b09c28a-80a6-4b4d-afca-0a6cdaa8a692",
   "metadata": {},
   "outputs": [
    {
     "name": "stdout",
     "output_type": "stream",
     "text": [
      "tensor(0.2636)\n"
     ]
    }
   ],
   "source": [
    "print(sum(labels) / len(labels))"
   ]
  },
  {
   "cell_type": "code",
   "execution_count": 10,
   "id": "6b9918bd-1f3b-4c8e-934e-a716c3a7fdb5",
   "metadata": {},
   "outputs": [
    {
     "name": "stderr",
     "output_type": "stream",
     "text": [
      "14000it [00:00, 110137.31it/s]\n"
     ]
    }
   ],
   "source": [
    "step = 0.1\n",
    "bucket_starts = np.arange(0.0, 4.0, 0.1)\n",
    "buckets = [ [ 0, 0 ] for _ in bucket_starts ]\n",
    "for distance, label in tqdm(zip(distances, labels)):\n",
    "    bucket = buckets[int(distance / step)]\n",
    "    bucket[0] += 1\n",
    "    bucket[1] += int(label)\n",
    "percentage = [ (bu[1] / bu[0] if bu[0] != 0 else 0) for bu in buckets ]"
   ]
  },
  {
   "cell_type": "code",
   "execution_count": 11,
   "id": "db2a5138-51be-424c-92fc-815ab4f9db01",
   "metadata": {},
   "outputs": [
    {
     "data": {
      "text/plain": [
       "<matplotlib.collections.PathCollection at 0x7febc8139e50>"
      ]
     },
     "execution_count": 11,
     "metadata": {},
     "output_type": "execute_result"
    },
    {
     "data": {
      "image/png": "[encoded data removed]",
      "text/plain": [
       "<Figure size 640x480 with 1 Axes>"
      ]
     },
     "metadata": {},
     "output_type": "display_data"
    }
   ],
   "source": [
    "plt.scatter(bucket_starts, percentage)"
   ]
  }
 ],
 "metadata": {
  "kernelspec": {
   "display_name": "thesis",
   "language": "python",
   "name": "thesis"
  },
  "language_info": {
   "codemirror_mode": {
    "name": "ipython",
    "version": 3
   },
   "file_extension": ".py",
   "mimetype": "text/x-python",
   "name": "python",
   "nbconvert_exporter": "python",
   "pygments_lexer": "ipython3",
   "version": "3.12.4"
  }
 },
 "nbformat": 4,
 "nbformat_minor": 5
}
